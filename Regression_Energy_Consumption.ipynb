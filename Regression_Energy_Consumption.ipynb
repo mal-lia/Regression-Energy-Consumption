{
  "nbformat": 4,
  "nbformat_minor": 0,
  "metadata": {
    "colab": {
      "provenance": []
    },
    "kernelspec": {
      "name": "python3",
      "display_name": "Python 3"
    },
    "language_info": {
      "name": "python"
    }
  },
  "cells": [
    {
      "cell_type": "markdown",
      "source": [
        "# **Regresi Dataset Energy Consumption**"
      ],
      "metadata": {
        "id": "DcpMaTVNUmC8"
      }
    },
    {
      "cell_type": "markdown",
      "source": [
        "## **PENJELASAN DATASET [ Energy Consumption Dataset ]**\n",
        "\n",
        "> Dataset ini dirancang untuk memprediksi konsumsi energi berdasarkan berbagai fitur bangunan dan faktor lingkungan. Dataset ini berisi data untuk berbagai jenis bangunan, luas bangunan, jumlah penghuni, peralatan yang digunakan, suhu rata-rata, dan hari dalam seminggu. Tujuannya adalah untuk membangun model prediktif untuk memperkirakan konsumsi energi dengan menggunakan atribut-atribut ini.\n",
        "\n",
        "> Dataset ini dapat digunakan untuk melatih model pembelajaran mesin seperti regresi linier untuk memperkirakan kebutuhan energi berdasarkan karakteristik bangunan. Hal ini berguna untuk memahami pola permintaan energi dan mengoptimalkan konsumsi energi di berbagai jenis bangunan dan kondisi lingkungan."
      ],
      "metadata": {
        "id": "y5Ke_hPpX7QY"
      }
    },
    {
      "cell_type": "code",
      "source": [
        "# Import library yang dibutuhkan\n",
        "import pandas as pd\n",
        "import numpy as np\n",
        "import matplotlib.pyplot as plt\n",
        "import seaborn as sns\n",
        "from sklearn.model_selection import train_test_split\n",
        "from sklearn.linear_model import LinearRegression\n",
        "from sklearn.metrics import mean_squared_error, r2_score\n",
        "import statsmodels.api as sm"
      ],
      "metadata": {
        "id": "JVNuoZdRSOeS"
      },
      "execution_count": null,
      "outputs": []
    },
    {
      "cell_type": "code",
      "source": [
        "!kaggle datasets download -d govindaramsriram/energy-consumption-dataset-linear-regression"
      ],
      "metadata": {
        "colab": {
          "base_uri": "https://localhost:8080/"
        },
        "id": "sm5GDWmdm4Ka",
        "outputId": "59500059-fd32-477f-85d6-d5eb8c226655"
      },
      "execution_count": null,
      "outputs": [
        {
          "output_type": "stream",
          "name": "stdout",
          "text": [
            "Warning: Looks like you're using an outdated API Version, please consider updating (server 1.7.4.2 / client 1.6.17)\n",
            "Dataset URL: https://www.kaggle.com/datasets/govindaramsriram/energy-consumption-dataset-linear-regression\n",
            "License(s): Attribution 4.0 International (CC BY 4.0)\n",
            "Downloading energy-consumption-dataset-linear-regression.zip to /content\n",
            "  0% 0.00/16.3k [00:00<?, ?B/s]\n",
            "100% 16.3k/16.3k [00:00<00:00, 21.3MB/s]\n"
          ]
        }
      ]
    },
    {
      "cell_type": "code",
      "source": [
        "!unzip energy-consumption-dataset-linear-regression.zip"
      ],
      "metadata": {
        "colab": {
          "base_uri": "https://localhost:8080/"
        },
        "id": "4yykKhuan41n",
        "outputId": "45fcb84f-ac82-42c7-92c3-024bd22e255c"
      },
      "execution_count": null,
      "outputs": [
        {
          "output_type": "stream",
          "name": "stdout",
          "text": [
            "Archive:  energy-consumption-dataset-linear-regression.zip\n",
            "  inflating: test_energy_data.csv    \n",
            "  inflating: train_energy_data.csv   \n"
          ]
        }
      ]
    },
    {
      "cell_type": "code",
      "source": [
        "data = \"test_energy_data.csv\"\n",
        "df = pd.read_csv(data, sep=',', encoding='latin-1', low_memory=False)\n",
        "df.head()"
      ],
      "metadata": {
        "colab": {
          "base_uri": "https://localhost:8080/",
          "height": 206
        },
        "id": "6jCvgQZ_nEa7",
        "outputId": "964d9ab7-1f98-4a1e-9887-8ae90af405bc"
      },
      "execution_count": null,
      "outputs": [
        {
          "output_type": "execute_result",
          "data": {
            "text/plain": [
              "  Building Type  Square Footage  Number of Occupants  Appliances Used  \\\n",
              "0   Residential           24563                   15                4   \n",
              "1    Commercial           27583                   56               23   \n",
              "2    Commercial           45313                    4               44   \n",
              "3   Residential           41625                   84               17   \n",
              "4   Residential           36720                   58               47   \n",
              "\n",
              "   Average Temperature Day of Week  Energy Consumption  \n",
              "0                28.52     Weekday             2865.57  \n",
              "1                23.07     Weekend             4283.80  \n",
              "2                33.56     Weekday             5067.83  \n",
              "3                27.39     Weekend             4624.30  \n",
              "4                17.08     Weekday             4820.59  "
            ],
            "text/html": [
              "\n",
              "  <div id=\"df-712bb64b-976a-4602-af80-a30d2b2a5666\" class=\"colab-df-container\">\n",
              "    <div>\n",
              "<style scoped>\n",
              "    .dataframe tbody tr th:only-of-type {\n",
              "        vertical-align: middle;\n",
              "    }\n",
              "\n",
              "    .dataframe tbody tr th {\n",
              "        vertical-align: top;\n",
              "    }\n",
              "\n",
              "    .dataframe thead th {\n",
              "        text-align: right;\n",
              "    }\n",
              "</style>\n",
              "<table border=\"1\" class=\"dataframe\">\n",
              "  <thead>\n",
              "    <tr style=\"text-align: right;\">\n",
              "      <th></th>\n",
              "      <th>Building Type</th>\n",
              "      <th>Square Footage</th>\n",
              "      <th>Number of Occupants</th>\n",
              "      <th>Appliances Used</th>\n",
              "      <th>Average Temperature</th>\n",
              "      <th>Day of Week</th>\n",
              "      <th>Energy Consumption</th>\n",
              "    </tr>\n",
              "  </thead>\n",
              "  <tbody>\n",
              "    <tr>\n",
              "      <th>0</th>\n",
              "      <td>Residential</td>\n",
              "      <td>24563</td>\n",
              "      <td>15</td>\n",
              "      <td>4</td>\n",
              "      <td>28.52</td>\n",
              "      <td>Weekday</td>\n",
              "      <td>2865.57</td>\n",
              "    </tr>\n",
              "    <tr>\n",
              "      <th>1</th>\n",
              "      <td>Commercial</td>\n",
              "      <td>27583</td>\n",
              "      <td>56</td>\n",
              "      <td>23</td>\n",
              "      <td>23.07</td>\n",
              "      <td>Weekend</td>\n",
              "      <td>4283.80</td>\n",
              "    </tr>\n",
              "    <tr>\n",
              "      <th>2</th>\n",
              "      <td>Commercial</td>\n",
              "      <td>45313</td>\n",
              "      <td>4</td>\n",
              "      <td>44</td>\n",
              "      <td>33.56</td>\n",
              "      <td>Weekday</td>\n",
              "      <td>5067.83</td>\n",
              "    </tr>\n",
              "    <tr>\n",
              "      <th>3</th>\n",
              "      <td>Residential</td>\n",
              "      <td>41625</td>\n",
              "      <td>84</td>\n",
              "      <td>17</td>\n",
              "      <td>27.39</td>\n",
              "      <td>Weekend</td>\n",
              "      <td>4624.30</td>\n",
              "    </tr>\n",
              "    <tr>\n",
              "      <th>4</th>\n",
              "      <td>Residential</td>\n",
              "      <td>36720</td>\n",
              "      <td>58</td>\n",
              "      <td>47</td>\n",
              "      <td>17.08</td>\n",
              "      <td>Weekday</td>\n",
              "      <td>4820.59</td>\n",
              "    </tr>\n",
              "  </tbody>\n",
              "</table>\n",
              "</div>\n",
              "    <div class=\"colab-df-buttons\">\n",
              "\n",
              "  <div class=\"colab-df-container\">\n",
              "    <button class=\"colab-df-convert\" onclick=\"convertToInteractive('df-712bb64b-976a-4602-af80-a30d2b2a5666')\"\n",
              "            title=\"Convert this dataframe to an interactive table.\"\n",
              "            style=\"display:none;\">\n",
              "\n",
              "  <svg xmlns=\"http://www.w3.org/2000/svg\" height=\"24px\" viewBox=\"0 -960 960 960\">\n",
              "    <path d=\"M120-120v-720h720v720H120Zm60-500h600v-160H180v160Zm220 220h160v-160H400v160Zm0 220h160v-160H400v160ZM180-400h160v-160H180v160Zm440 0h160v-160H620v160ZM180-180h160v-160H180v160Zm440 0h160v-160H620v160Z\"/>\n",
              "  </svg>\n",
              "    </button>\n",
              "\n",
              "  <style>\n",
              "    .colab-df-container {\n",
              "      display:flex;\n",
              "      gap: 12px;\n",
              "    }\n",
              "\n",
              "    .colab-df-convert {\n",
              "      background-color: #E8F0FE;\n",
              "      border: none;\n",
              "      border-radius: 50%;\n",
              "      cursor: pointer;\n",
              "      display: none;\n",
              "      fill: #1967D2;\n",
              "      height: 32px;\n",
              "      padding: 0 0 0 0;\n",
              "      width: 32px;\n",
              "    }\n",
              "\n",
              "    .colab-df-convert:hover {\n",
              "      background-color: #E2EBFA;\n",
              "      box-shadow: 0px 1px 2px rgba(60, 64, 67, 0.3), 0px 1px 3px 1px rgba(60, 64, 67, 0.15);\n",
              "      fill: #174EA6;\n",
              "    }\n",
              "\n",
              "    .colab-df-buttons div {\n",
              "      margin-bottom: 4px;\n",
              "    }\n",
              "\n",
              "    [theme=dark] .colab-df-convert {\n",
              "      background-color: #3B4455;\n",
              "      fill: #D2E3FC;\n",
              "    }\n",
              "\n",
              "    [theme=dark] .colab-df-convert:hover {\n",
              "      background-color: #434B5C;\n",
              "      box-shadow: 0px 1px 3px 1px rgba(0, 0, 0, 0.15);\n",
              "      filter: drop-shadow(0px 1px 2px rgba(0, 0, 0, 0.3));\n",
              "      fill: #FFFFFF;\n",
              "    }\n",
              "  </style>\n",
              "\n",
              "    <script>\n",
              "      const buttonEl =\n",
              "        document.querySelector('#df-712bb64b-976a-4602-af80-a30d2b2a5666 button.colab-df-convert');\n",
              "      buttonEl.style.display =\n",
              "        google.colab.kernel.accessAllowed ? 'block' : 'none';\n",
              "\n",
              "      async function convertToInteractive(key) {\n",
              "        const element = document.querySelector('#df-712bb64b-976a-4602-af80-a30d2b2a5666');\n",
              "        const dataTable =\n",
              "          await google.colab.kernel.invokeFunction('convertToInteractive',\n",
              "                                                    [key], {});\n",
              "        if (!dataTable) return;\n",
              "\n",
              "        const docLinkHtml = 'Like what you see? Visit the ' +\n",
              "          '<a target=\"_blank\" href=https://colab.research.google.com/notebooks/data_table.ipynb>data table notebook</a>'\n",
              "          + ' to learn more about interactive tables.';\n",
              "        element.innerHTML = '';\n",
              "        dataTable['output_type'] = 'display_data';\n",
              "        await google.colab.output.renderOutput(dataTable, element);\n",
              "        const docLink = document.createElement('div');\n",
              "        docLink.innerHTML = docLinkHtml;\n",
              "        element.appendChild(docLink);\n",
              "      }\n",
              "    </script>\n",
              "  </div>\n",
              "\n",
              "\n",
              "<div id=\"df-3c4b010b-bb14-4494-9e23-0a325095cba8\">\n",
              "  <button class=\"colab-df-quickchart\" onclick=\"quickchart('df-3c4b010b-bb14-4494-9e23-0a325095cba8')\"\n",
              "            title=\"Suggest charts\"\n",
              "            style=\"display:none;\">\n",
              "\n",
              "<svg xmlns=\"http://www.w3.org/2000/svg\" height=\"24px\"viewBox=\"0 0 24 24\"\n",
              "     width=\"24px\">\n",
              "    <g>\n",
              "        <path d=\"M19 3H5c-1.1 0-2 .9-2 2v14c0 1.1.9 2 2 2h14c1.1 0 2-.9 2-2V5c0-1.1-.9-2-2-2zM9 17H7v-7h2v7zm4 0h-2V7h2v10zm4 0h-2v-4h2v4z\"/>\n",
              "    </g>\n",
              "</svg>\n",
              "  </button>\n",
              "\n",
              "<style>\n",
              "  .colab-df-quickchart {\n",
              "      --bg-color: #E8F0FE;\n",
              "      --fill-color: #1967D2;\n",
              "      --hover-bg-color: #E2EBFA;\n",
              "      --hover-fill-color: #174EA6;\n",
              "      --disabled-fill-color: #AAA;\n",
              "      --disabled-bg-color: #DDD;\n",
              "  }\n",
              "\n",
              "  [theme=dark] .colab-df-quickchart {\n",
              "      --bg-color: #3B4455;\n",
              "      --fill-color: #D2E3FC;\n",
              "      --hover-bg-color: #434B5C;\n",
              "      --hover-fill-color: #FFFFFF;\n",
              "      --disabled-bg-color: #3B4455;\n",
              "      --disabled-fill-color: #666;\n",
              "  }\n",
              "\n",
              "  .colab-df-quickchart {\n",
              "    background-color: var(--bg-color);\n",
              "    border: none;\n",
              "    border-radius: 50%;\n",
              "    cursor: pointer;\n",
              "    display: none;\n",
              "    fill: var(--fill-color);\n",
              "    height: 32px;\n",
              "    padding: 0;\n",
              "    width: 32px;\n",
              "  }\n",
              "\n",
              "  .colab-df-quickchart:hover {\n",
              "    background-color: var(--hover-bg-color);\n",
              "    box-shadow: 0 1px 2px rgba(60, 64, 67, 0.3), 0 1px 3px 1px rgba(60, 64, 67, 0.15);\n",
              "    fill: var(--button-hover-fill-color);\n",
              "  }\n",
              "\n",
              "  .colab-df-quickchart-complete:disabled,\n",
              "  .colab-df-quickchart-complete:disabled:hover {\n",
              "    background-color: var(--disabled-bg-color);\n",
              "    fill: var(--disabled-fill-color);\n",
              "    box-shadow: none;\n",
              "  }\n",
              "\n",
              "  .colab-df-spinner {\n",
              "    border: 2px solid var(--fill-color);\n",
              "    border-color: transparent;\n",
              "    border-bottom-color: var(--fill-color);\n",
              "    animation:\n",
              "      spin 1s steps(1) infinite;\n",
              "  }\n",
              "\n",
              "  @keyframes spin {\n",
              "    0% {\n",
              "      border-color: transparent;\n",
              "      border-bottom-color: var(--fill-color);\n",
              "      border-left-color: var(--fill-color);\n",
              "    }\n",
              "    20% {\n",
              "      border-color: transparent;\n",
              "      border-left-color: var(--fill-color);\n",
              "      border-top-color: var(--fill-color);\n",
              "    }\n",
              "    30% {\n",
              "      border-color: transparent;\n",
              "      border-left-color: var(--fill-color);\n",
              "      border-top-color: var(--fill-color);\n",
              "      border-right-color: var(--fill-color);\n",
              "    }\n",
              "    40% {\n",
              "      border-color: transparent;\n",
              "      border-right-color: var(--fill-color);\n",
              "      border-top-color: var(--fill-color);\n",
              "    }\n",
              "    60% {\n",
              "      border-color: transparent;\n",
              "      border-right-color: var(--fill-color);\n",
              "    }\n",
              "    80% {\n",
              "      border-color: transparent;\n",
              "      border-right-color: var(--fill-color);\n",
              "      border-bottom-color: var(--fill-color);\n",
              "    }\n",
              "    90% {\n",
              "      border-color: transparent;\n",
              "      border-bottom-color: var(--fill-color);\n",
              "    }\n",
              "  }\n",
              "</style>\n",
              "\n",
              "  <script>\n",
              "    async function quickchart(key) {\n",
              "      const quickchartButtonEl =\n",
              "        document.querySelector('#' + key + ' button');\n",
              "      quickchartButtonEl.disabled = true;  // To prevent multiple clicks.\n",
              "      quickchartButtonEl.classList.add('colab-df-spinner');\n",
              "      try {\n",
              "        const charts = await google.colab.kernel.invokeFunction(\n",
              "            'suggestCharts', [key], {});\n",
              "      } catch (error) {\n",
              "        console.error('Error during call to suggestCharts:', error);\n",
              "      }\n",
              "      quickchartButtonEl.classList.remove('colab-df-spinner');\n",
              "      quickchartButtonEl.classList.add('colab-df-quickchart-complete');\n",
              "    }\n",
              "    (() => {\n",
              "      let quickchartButtonEl =\n",
              "        document.querySelector('#df-3c4b010b-bb14-4494-9e23-0a325095cba8 button');\n",
              "      quickchartButtonEl.style.display =\n",
              "        google.colab.kernel.accessAllowed ? 'block' : 'none';\n",
              "    })();\n",
              "  </script>\n",
              "</div>\n",
              "\n",
              "    </div>\n",
              "  </div>\n"
            ],
            "application/vnd.google.colaboratory.intrinsic+json": {
              "type": "dataframe",
              "variable_name": "df",
              "summary": "{\n  \"name\": \"df\",\n  \"rows\": 100,\n  \"fields\": [\n    {\n      \"column\": \"Building Type\",\n      \"properties\": {\n        \"dtype\": \"category\",\n        \"num_unique_values\": 3,\n        \"samples\": [\n          \"Residential\",\n          \"Commercial\",\n          \"Industrial\"\n        ],\n        \"semantic_type\": \"\",\n        \"description\": \"\"\n      }\n    },\n    {\n      \"column\": \"Square Footage\",\n      \"properties\": {\n        \"dtype\": \"number\",\n        \"std\": 13711,\n        \"min\": 1161,\n        \"max\": 49354,\n        \"num_unique_values\": 99,\n        \"samples\": [\n          21408,\n          39327,\n          37943\n        ],\n        \"semantic_type\": \"\",\n        \"description\": \"\"\n      }\n    },\n    {\n      \"column\": \"Number of Occupants\",\n      \"properties\": {\n        \"dtype\": \"number\",\n        \"std\": 29,\n        \"min\": 2,\n        \"max\": 99,\n        \"num_unique_values\": 65,\n        \"samples\": [\n          99,\n          64,\n          15\n        ],\n        \"semantic_type\": \"\",\n        \"description\": \"\"\n      }\n    },\n    {\n      \"column\": \"Appliances Used\",\n      \"properties\": {\n        \"dtype\": \"number\",\n        \"std\": 14,\n        \"min\": 1,\n        \"max\": 49,\n        \"num_unique_values\": 45,\n        \"samples\": [\n          30,\n          45,\n          21\n        ],\n        \"semantic_type\": \"\",\n        \"description\": \"\"\n      }\n    },\n    {\n      \"column\": \"Average Temperature\",\n      \"properties\": {\n        \"dtype\": \"number\",\n        \"std\": 6.957951349341124,\n        \"min\": 10.4,\n        \"max\": 34.71,\n        \"num_unique_values\": 99,\n        \"samples\": [\n          27.59,\n          19.4,\n          21.73\n        ],\n        \"semantic_type\": \"\",\n        \"description\": \"\"\n      }\n    },\n    {\n      \"column\": \"Day of Week\",\n      \"properties\": {\n        \"dtype\": \"category\",\n        \"num_unique_values\": 2,\n        \"samples\": [\n          \"Weekend\",\n          \"Weekday\"\n        ],\n        \"semantic_type\": \"\",\n        \"description\": \"\"\n      }\n    },\n    {\n      \"column\": \"Energy Consumption\",\n      \"properties\": {\n        \"dtype\": \"number\",\n        \"std\": 832.5598495088822,\n        \"min\": 2351.97,\n        \"max\": 6042.56,\n        \"num_unique_values\": 100,\n        \"samples\": [\n          5900.32,\n          3072.63\n        ],\n        \"semantic_type\": \"\",\n        \"description\": \"\"\n      }\n    }\n  ]\n}"
            }
          },
          "metadata": {},
          "execution_count": 4
        }
      ]
    },
    {
      "cell_type": "code",
      "source": [
        "# Definisikan X dan Y\n",
        "Y = df[['Square Footage']]  # Harus berbentuk array 2D\n",
        "X = df.drop(['Square Footage','Appliances Used'], axis=1)"
      ],
      "metadata": {
        "id": "pvisUcmqovLx"
      },
      "execution_count": null,
      "outputs": []
    },
    {
      "cell_type": "code",
      "source": [
        "print(X)"
      ],
      "metadata": {
        "colab": {
          "base_uri": "https://localhost:8080/"
        },
        "id": "hbCHhfZhovdq",
        "outputId": "7948eb1a-23aa-4701-e4e9-c7123af04f3b"
      },
      "execution_count": null,
      "outputs": [
        {
          "output_type": "stream",
          "name": "stdout",
          "text": [
            "   Building Type  Number of Occupants  Average Temperature Day of Week  \\\n",
            "0    Residential                   15                28.52     Weekday   \n",
            "1     Commercial                   56                23.07     Weekend   \n",
            "2     Commercial                    4                33.56     Weekday   \n",
            "3    Residential                   84                27.39     Weekend   \n",
            "4    Residential                   58                17.08     Weekday   \n",
            "..           ...                  ...                  ...         ...   \n",
            "95    Commercial                   81                15.45     Weekend   \n",
            "96   Residential                   50                21.73     Weekend   \n",
            "97    Commercial                   27                16.86     Weekend   \n",
            "98    Industrial                   56                11.77     Weekend   \n",
            "99   Residential                   72                29.62     Weekday   \n",
            "\n",
            "    Energy Consumption  \n",
            "0              2865.57  \n",
            "1              4283.80  \n",
            "2              5067.83  \n",
            "3              4624.30  \n",
            "4              4820.59  \n",
            "..                 ...  \n",
            "95             3010.81  \n",
            "96             4248.49  \n",
            "97             2843.60  \n",
            "98             3348.39  \n",
            "99             4722.59  \n",
            "\n",
            "[100 rows x 5 columns]\n"
          ]
        }
      ]
    },
    {
      "cell_type": "code",
      "source": [
        "df.hist(bins=30, figsize=(10,10), density=True)\n",
        "plt.show()"
      ],
      "metadata": {
        "colab": {
          "base_uri": "https://localhost:8080/",
          "height": 853
        },
        "id": "bypiFk-9wGk4",
        "outputId": "ba797b92-b85e-41ba-b6e9-802ce5913b8e"
      },
      "execution_count": null,
      "outputs": [
        {
          "output_type": "display_data",
          "data": {
            "text/plain": [
              "<Figure size 1000x1000 with 6 Axes>"
            ],
            "image/png": "[encoded data removed]"
          },
          "metadata": {}
        }
      ]
    },
    {
      "cell_type": "markdown",
      "source": [
        "### **Membaca Histogram (Density Normalization)**\n",
        "> Sumbu Y menunjukkan kepadatan probabilitas, bukan jumlah absolut.\n",
        "\n",
        "> Nilai pada sumbu Y lebih kecil karena menunjukkan proporsi relatif dari total data dalam setiap bin.\n",
        "\n",
        "> Puncak histogram berarti rentang luas bangunan tersebut lebih umum dibandingkan rentang lainnya.\n",
        "\n",
        "\n",
        "---\n",
        "### **Interpretasi Histogram**\n",
        "1). **Square Footage (Multimodal)**: Distribusi cukup tersebar dengan banyak variasi ukuran rumah.\n",
        "Dengan puncak kecil di sekitar 0-5000 sqft dan distribusi yang relatif merata setelahnya.\n",
        "\n",
        "2). **Number of Occupants (Multimodal)**: Jumlah penghuni bervariasi, tidak ada pola yang jelas. Ada beberapa titik di mana jumlah penghuni lebih sering muncul dibanding lainnya.\n",
        "\n",
        "3). **Appliances Used (Bimodal)**: Distribusi tidak merata, ada banyak fluktuasi. Rumah dengan jumlah alat elektronik tertentu lebih umum daripada jumlah lainnya.\n",
        "\n",
        "4). **Average Temperature (Uniform)**: Cenderung terdistribusi merata antara 10°C hingga 35°C. Tidak ada puncak dominan, yang menunjukkan bahwa suhu rata-rata rumah dalam dataset cukup bervariasi.\n",
        "\n",
        "5). **Energy Consumption (Skew Right)**: Sebagian besar rumah mengonsumsi energi di sekitar 3500 - 5000, tapi ada beberapa yang memiliki konsumsi energi lebih tinggi.\n"
      ],
      "metadata": {
        "id": "7KBGmH3S3TO2"
      }
    },
    {
      "cell_type": "code",
      "source": [
        "from sklearn.preprocessing import OneHotEncoder\n",
        "\n",
        "# Menggunakan OneHotEncoder untuk mengubah data kategorikal\n",
        "encoder = OneHotEncoder(drop='first', sparse_output=False)\n",
        "X_encoded = encoder.fit_transform(X[['Building Type', 'Day of Week']])\n",
        "\n",
        "# Mengubah hasil encoding menjadi DataFrame\n",
        "X_encoded_df = pd.DataFrame(X_encoded, columns=encoder.get_feature_names_out(['Building Type', 'Day of Week']))\n",
        "\n",
        "# Gabungkan dengan fitur numerik lainnya\n",
        "X_numeric = X.drop(columns=['Building Type', 'Day of Week']).reset_index(drop=True)\n",
        "X_final = pd.concat([X_numeric, X_encoded_df], axis=1)"
      ],
      "metadata": {
        "id": "_7ruT3RMR4v8"
      },
      "execution_count": null,
      "outputs": []
    },
    {
      "cell_type": "code",
      "source": [
        "print(X.dtypes)\n",
        "print(X.head())"
      ],
      "metadata": {
        "colab": {
          "base_uri": "https://localhost:8080/"
        },
        "id": "7HFoRbOKOoy6",
        "outputId": "d6f297f2-28dc-4592-9efb-b0b63e06e023"
      },
      "execution_count": null,
      "outputs": [
        {
          "output_type": "stream",
          "name": "stdout",
          "text": [
            "Building Type           object\n",
            "Number of Occupants      int64\n",
            "Average Temperature    float64\n",
            "Day of Week             object\n",
            "Energy Consumption     float64\n",
            "dtype: object\n",
            "  Building Type  Number of Occupants  Average Temperature Day of Week  \\\n",
            "0   Residential                   15                28.52     Weekday   \n",
            "1    Commercial                   56                23.07     Weekend   \n",
            "2    Commercial                    4                33.56     Weekday   \n",
            "3   Residential                   84                27.39     Weekend   \n",
            "4   Residential                   58                17.08     Weekday   \n",
            "\n",
            "   Energy Consumption  \n",
            "0             2865.57  \n",
            "1             4283.80  \n",
            "2             5067.83  \n",
            "3             4624.30  \n",
            "4             4820.59  \n"
          ]
        }
      ]
    },
    {
      "cell_type": "markdown",
      "source": [
        "***Kode One-Hot Encoding masih perlu diubah, karena:***\n",
        ">'Building Type' dan 'Day of Week' perlu diubah menjadi representasi numerik sebelum masuk ke model.\n",
        "\n",
        "> drop='first' menghindari dummy variable trap.\n",
        "\n",
        "> Data hasil encoding digabung dengan fitur numerik lainnya untuk membentuk X_final, yang sepenuhnya numerik."
      ],
      "metadata": {
        "id": "qEXfR-cd93-t"
      }
    },
    {
      "cell_type": "code",
      "source": [
        "# Membuat model regresi\n",
        "model = LinearRegression()\n",
        "model.fit(X_final, Y)\n",
        "\n",
        "# Prediksi nilai Y\n",
        "Y_pred = model.predict(X_final)\n",
        "print(Y_pred)"
      ],
      "metadata": {
        "id": "ZyX2xFZqSN_t",
        "outputId": "27a83d3a-2c2f-4b06-9dd3-a45f6f13eabe",
        "colab": {
          "base_uri": "https://localhost:8080/"
        }
      },
      "execution_count": null,
      "outputs": [
        {
          "output_type": "stream",
          "name": "stdout",
          "text": [
            "[[16577.40063527]\n",
            " [26193.1607714 ]\n",
            " [50942.95981048]\n",
            " [36272.0794851 ]\n",
            " [41438.35187262]\n",
            " [31653.65557667]\n",
            " [43941.60505535]\n",
            " [ 6714.72414645]\n",
            " [18206.62821112]\n",
            " [23604.22753101]\n",
            " [34695.70676381]\n",
            " [13117.96307272]\n",
            " [30221.71924764]\n",
            " [32912.58944294]\n",
            " [14785.04557627]\n",
            " [13456.04012197]\n",
            " [27509.09163876]\n",
            " [14089.8643328 ]\n",
            " [12826.09332621]\n",
            " [25303.02976903]\n",
            " [20256.86454998]\n",
            " [30909.81666365]\n",
            " [37444.34552719]\n",
            " [19759.87081249]\n",
            " [41925.36337091]\n",
            " [24476.18292365]\n",
            " [38420.34957428]\n",
            " [35047.287921  ]\n",
            " [27226.14043257]\n",
            " [26337.41495291]\n",
            " [26149.76236176]\n",
            " [48827.61203105]\n",
            " [49784.99417669]\n",
            " [16970.2399868 ]\n",
            " [28878.18279993]\n",
            " [30010.99408991]\n",
            " [41823.06227865]\n",
            " [21836.44584227]\n",
            " [10165.2397431 ]\n",
            " [50476.82308852]\n",
            " [40303.64955006]\n",
            " [18865.0011994 ]\n",
            " [44604.92427368]\n",
            " [30093.35786541]\n",
            " [35837.43736148]\n",
            " [11272.18804929]\n",
            " [41512.68943752]\n",
            " [10254.34882203]\n",
            " [16351.52023364]\n",
            " [25767.9106828 ]\n",
            " [19390.19042745]\n",
            " [39713.01513239]\n",
            " [36510.75469034]\n",
            " [13722.07480462]\n",
            " [ 5477.55765071]\n",
            " [40814.06134062]\n",
            " [ 5530.97261525]\n",
            " [39696.94023225]\n",
            " [35111.33698928]\n",
            " [ 7580.4151747 ]\n",
            " [10297.21875607]\n",
            " [37353.50045429]\n",
            " [19256.73855081]\n",
            " [10676.5948232 ]\n",
            " [48810.24354153]\n",
            " [35654.96657113]\n",
            " [15365.02577971]\n",
            " [17251.33463518]\n",
            " [12381.10587938]\n",
            " [32467.07008894]\n",
            " [17774.784513  ]\n",
            " [20988.4392    ]\n",
            " [34109.19413563]\n",
            " [32535.45565142]\n",
            " [ 9725.09449384]\n",
            " [10929.27905361]\n",
            " [33185.04999287]\n",
            " [30561.90290744]\n",
            " [21321.09932663]\n",
            " [38517.27373188]\n",
            " [32944.21646766]\n",
            " [27349.0602654 ]\n",
            " [20388.58130077]\n",
            " [48544.47721163]\n",
            " [20956.02113195]\n",
            " [28970.27035294]\n",
            " [24759.00120265]\n",
            " [ 7153.4146691 ]\n",
            " [27991.47854919]\n",
            " [18765.57119115]\n",
            " [24852.39716956]\n",
            " [25941.11784683]\n",
            " [23756.95604431]\n",
            " [ 9519.94035012]\n",
            " [22908.39031398]\n",
            " [-2943.49494304]\n",
            " [34786.03819202]\n",
            " [ 4486.91162392]\n",
            " [-1211.54849789]\n",
            " [39512.55142331]]\n"
          ]
        }
      ]
    },
    {
      "cell_type": "markdown",
      "source": [
        "**Penjelasan Y_Pred**\n",
        "\n",
        "> Y_pred merupakan nilai perkiraan Square Footage berdasarkan fitur-fitur yang diberikan (jumlah penghuni, suhu rata-rata, tipe bangunan, dan hari dalam seminggu).\n",
        "\n",
        "> => Setiap angka dalam output merepresentasikan prediksi konsumsi energi untuk masing-masing data dalam dataset. Sebagian besar nilai berada di rentang ribuan hingga puluhan ribu. Namun, ada beberapa nilai (negatif), yang mungkin menunjukkan adanya masalah dalam model atau data."
      ],
      "metadata": {
        "id": "y1rEQ1ss-xmQ"
      }
    },
    {
      "cell_type": "code",
      "source": [
        "# Menampilkan hasil regresi\n",
        "print(model.intercept_)\n",
        "print(model.coef_)\n",
        "print(r2_score(Y,Y_pred))"
      ],
      "metadata": {
        "colab": {
          "base_uri": "https://localhost:8080/"
        },
        "id": "EtYE49y1Uf8l",
        "outputId": "a0413eb5-96b9-447f-e531-00c1586edb26"
      },
      "execution_count": null,
      "outputs": [
        {
          "output_type": "stream",
          "name": "stdout",
          "text": [
            "[-46202.07957389]\n",
            "[[ -188.21835914   197.31436498    18.01087304 -8327.50619208\n",
            "   8363.93244197  1228.44811681]]\n",
            "0.8444989750855838\n"
          ]
        }
      ]
    },
    {
      "cell_type": "markdown",
      "source": [
        "> **Output 01** = Jika semua fitur bernilai 0, maka konsumsi energi diprediksi sekitar -46.202. Nilai negatif bisa dikarenakan skala fitur (jika X memiliki nilai yang besar, sementara Y lebih kecil atau berbeda skala).\n",
        "\n",
        "> **Output 02** = Koefisien menunjukkan seberapa besar pengaruh setiap fitur terhadap prediksi konsumsi energi.\n",
        "\n",
        "* -188.22: Jika Number of Occupants naik 1 orang, konsumsi energi berkurang 188.22 unit.\n",
        "\n",
        "* 197.31: Jika Average Temperature naik 1°C, konsumsi energi bertambah 197.31 unit.\n",
        "\n",
        "* -8327.51 dan 8363.93: Efek dari One-Hot Encoding pada kategori seperti Building Type (Residensial dan Komersial).\n",
        "\n",
        "* 18.01: Setiap tambahan 1 unit Energy Consumption meningkatkan Square Footage 18.01 satuan.\n",
        "\n",
        "* 1228.45: Jika Day of Week adalah Weekend, maka Energy Consumption naik sekitar 1228.45 unit dibanding Weekday.\n",
        "\n",
        "> **Output 03:** r2_score digunakan untuk mengevaluasi seberapa baik model memprediksi Y berdasarkan X. Model memiliki **akurasi 84.4%** dalam menjelaskan variasi konsumsi energi berdasarkan fitur yang diberikan."
      ],
      "metadata": {
        "id": "L_OZDnzZAtXv"
      }
    },
    {
      "cell_type": "code",
      "source": [
        "from sklearn.preprocessing import OneHotEncoder\n",
        "\n",
        "# Inisialisasi encoder\n",
        "encoder = OneHotEncoder(drop='first', sparse_output=False)\n",
        "\n",
        "# Fit dan transform kolom kategorikal\n",
        "X_for_encoding = df[['Building Type', 'Day of Week']]\n",
        "X_encoded = encoder.fit_transform(X[['Building Type', 'Day of Week']])\n",
        "\n",
        "# Mengubah hasil encoding menjadi DataFrame\n",
        "encoded_cols = encoder.get_feature_names_out(['Building Type', 'Day of Week'])\n",
        "X_encoded_df = pd.DataFrame(X_encoded, columns=encoded_cols, index=X.index)\n",
        "\n",
        "# Gabungkan kembali dengan dataset asli (hapus kolom lama)\n",
        "X = X.drop(['Building Type', 'Day of Week'], axis=1)\n",
        "X = pd.concat([X, X_encoded_df], axis=1)\n",
        "\n",
        "print(X.head())  # Cek hasilnya\n",
        "print(X.dtypes)  # Pastikan semua numerik"
      ],
      "metadata": {
        "id": "TQnWfodzUkjh",
        "outputId": "dbda86d1-71f4-4ed7-9e2e-f04405fbb653",
        "colab": {
          "base_uri": "https://localhost:8080/"
        }
      },
      "execution_count": null,
      "outputs": [
        {
          "output_type": "stream",
          "name": "stdout",
          "text": [
            "   Number of Occupants  Average Temperature  Energy Consumption  \\\n",
            "0                   15                28.52             2865.57   \n",
            "1                   56                23.07             4283.80   \n",
            "2                    4                33.56             5067.83   \n",
            "3                   84                27.39             4624.30   \n",
            "4                   58                17.08             4820.59   \n",
            "\n",
            "   Building Type_Industrial  Building Type_Residential  Day of Week_Weekend  \n",
            "0                       0.0                        1.0                  0.0  \n",
            "1                       0.0                        0.0                  1.0  \n",
            "2                       0.0                        0.0                  0.0  \n",
            "3                       0.0                        1.0                  1.0  \n",
            "4                       0.0                        1.0                  0.0  \n",
            "Number of Occupants            int64\n",
            "Average Temperature          float64\n",
            "Energy Consumption           float64\n",
            "Building Type_Industrial     float64\n",
            "Building Type_Residential    float64\n",
            "Day of Week_Weekend          float64\n",
            "dtype: object\n"
          ]
        }
      ]
    },
    {
      "cell_type": "markdown",
      "source": [
        "### **Cara Kerja One-Hot Encoding:**\n",
        "> **\"Building Type\" (Tipe Bangunan)** diubah menjadi 2 kolom:\n",
        "* Building Type_Industrial → 1 jika bangunan Industrial, 0 jika tidak.\n",
        "* Building Type_Residential → 1 jika bangunan Residential, 0 jika tidak.\n",
        "\n",
        "> **\"Day of Week\" (Hari dalam Seminggu)** diubah jadi:\n",
        "* Day of Week_Weekend → 1 jika Weekend, 0 jika Weekday.\n"
      ],
      "metadata": {
        "id": "yp4HyAghEDKW"
      }
    },
    {
      "cell_type": "code",
      "source": [
        "import statsmodels.api as sm\n",
        "\n",
        "# Menambahkan konstanta untuk estimasi intersep\n",
        "X = sm.add_constant(X)\n",
        "\n",
        "# Model regresi dengan OLS\n",
        "model_ols = sm.OLS(Y, X).fit()\n",
        "print(model_ols.summary())"
      ],
      "metadata": {
        "colab": {
          "base_uri": "https://localhost:8080/"
        },
        "id": "c9ovGtLbWKTz",
        "outputId": "0b9e691f-f035-44e9-a041-238975de04ec"
      },
      "execution_count": null,
      "outputs": [
        {
          "output_type": "stream",
          "name": "stdout",
          "text": [
            "                            OLS Regression Results                            \n",
            "==============================================================================\n",
            "Dep. Variable:         Square Footage   R-squared:                       0.844\n",
            "Model:                            OLS   Adj. R-squared:                  0.834\n",
            "Method:                 Least Squares   F-statistic:                     84.18\n",
            "Date:                Mon, 10 Mar 2025   Prob (F-statistic):           2.16e-35\n",
            "Time:                        01:17:53   Log-Likelihood:                -1000.9\n",
            "No. Observations:                 100   AIC:                             2016.\n",
            "Df Residuals:                      93   BIC:                             2034.\n",
            "Df Model:                           6                                         \n",
            "Covariance Type:            nonrobust                                         \n",
            "=============================================================================================\n",
            "                                coef    std err          t      P>|t|      [0.025      0.975]\n",
            "---------------------------------------------------------------------------------------------\n",
            "const                      -4.62e+04   4449.507    -10.384      0.000    -5.5e+04   -3.74e+04\n",
            "Number of Occupants        -188.2184     20.093     -9.367      0.000    -228.118    -148.318\n",
            "Average Temperature         197.3144     82.266      2.398      0.018      33.951     360.678\n",
            "Energy Consumption           18.0109      0.840     21.439      0.000      16.343      19.679\n",
            "Building Type_Industrial  -8327.5062   1465.326     -5.683      0.000   -1.12e+04   -5417.659\n",
            "Building Type_Residential  8363.9324   1532.348      5.458      0.000    5320.993    1.14e+04\n",
            "Day of Week_Weekend        1228.4481   1179.852      1.041      0.300   -1114.503    3571.399\n",
            "==============================================================================\n",
            "Omnibus:                        9.353   Durbin-Watson:                   2.295\n",
            "Prob(Omnibus):                  0.009   Jarque-Bera (JB):                3.572\n",
            "Skew:                           0.105   Prob(JB):                        0.168\n",
            "Kurtosis:                       2.098   Cond. No.                     3.48e+04\n",
            "==============================================================================\n",
            "\n",
            "Notes:\n",
            "[1] Standard Errors assume that the covariance matrix of the errors is correctly specified.\n",
            "[2] The condition number is large, 3.48e+04. This might indicate that there are\n",
            "strong multicollinearity or other numerical problems.\n"
          ]
        }
      ]
    },
    {
      "cell_type": "markdown",
      "source": [
        "## **Evaluasi Model**\n",
        "\n",
        "* R-squared: 0.844 (84.4%) → Model menjelaskan 84.4% variasi Square Footage\n",
        "* F-statistic: 84.18, p < 0.001 → Model signifikan\n",
        "* Durbin-Watson: 2.295 → Tidak ada autokorelasi\n",
        "\n",
        "> Koefisien & Interpretasi\n",
        "\n",
        "> Intercept (-46,202.08) → Square Footage saat semua variabel nol;\n",
        "\n",
        "* Number of Occupants (-188.22) → Tambah 1 orang → Square Footage menurun 188.22\n",
        "* Average Temperature (+197.31) → Naik 1°C → Square Footage meningkat 197.31\n",
        "* Energy Consumption (+18.01) → Naik 1 unit → Square Footage meningkat 18.01\n",
        "* Building Type (Industrial: -8327.51, Residential: +8363.93)\n",
        "* Day of Week (Weekend: +1228.45, p = 0.300)\n",
        "\n",
        "> Variabel signifikan (p-value < 0.05):\n",
        "\n",
        "[Benar]: Number of Occupants, Average Temperature, Energy Consumption, Building\n",
        "Type_Industrial, Building Type_Residential\n",
        "\n",
        "[Salah]: Variabel tidak signifikan (p-value > 0.05): Day of Week_Weekend (p = 0.300, tidak berpengaruh secara statistik)."
      ],
      "metadata": {
        "id": "4pSvBl3VFYg0"
      }
    },
    {
      "cell_type": "code",
      "source": [
        "from sklearn.metrics import mean_squared_error\n",
        "\n",
        "# Mean Squared Error\n",
        "mse = mean_squared_error(Y, Y_pred)\n",
        "r2 = r2_score(Y, Y_pred)\n",
        "\n",
        "print(f\"Mean Squared Error (MSE): {mse:.4f}\")\n",
        "print(f\"R-squared: {r2:.4f}\")"
      ],
      "metadata": {
        "colab": {
          "base_uri": "https://localhost:8080/"
        },
        "id": "361jki8odaEp",
        "outputId": "ba4edb02-defd-4244-81f5-21e28073ca22"
      },
      "execution_count": null,
      "outputs": [
        {
          "output_type": "stream",
          "name": "stdout",
          "text": [
            "Mean Squared Error (MSE): 28940863.1784\n",
            "R-squared: 0.8445\n"
          ]
        }
      ]
    },
    {
      "cell_type": "markdown",
      "source": [
        "### **Interpretasi Model Lengkap (Dengan Variabel Tambahan)**\n",
        "> MSE: 28,940,863.18 → Kesalahan prediksi jauh lebih kecil, menunjukkan model lebih akurat.\n",
        "\n",
        "> R-squared: 0.844 → Model menjelaskan 84.45% variasi Square Footage.\n",
        "\n",
        "> Dengan tambahan variabel, model bisa memprediksi lebih baik dibandingkan hanya menggunakan Energy Consumption."
      ],
      "metadata": {
        "id": "_HyndKmQML1-"
      }
    },
    {
      "cell_type": "markdown",
      "source": [
        "# **Percobaan Dengan X Baru**"
      ],
      "metadata": {
        "id": "uz1Irt4wQ9o4"
      }
    },
    {
      "cell_type": "code",
      "source": [
        "X = df[['Energy Consumption']]"
      ],
      "metadata": {
        "id": "25geUbp_a9DR"
      },
      "execution_count": null,
      "outputs": []
    },
    {
      "cell_type": "code",
      "source": [
        "print(X)"
      ],
      "metadata": {
        "colab": {
          "base_uri": "https://localhost:8080/"
        },
        "id": "od6QPyNRx32P",
        "outputId": "93fc63f1-1570-4ea8-f5bb-db83f6405254"
      },
      "execution_count": null,
      "outputs": [
        {
          "output_type": "stream",
          "name": "stdout",
          "text": [
            "    Energy Consumption\n",
            "0              2865.57\n",
            "1              4283.80\n",
            "2              5067.83\n",
            "3              4624.30\n",
            "4              4820.59\n",
            "..                 ...\n",
            "95             3010.81\n",
            "96             4248.49\n",
            "97             2843.60\n",
            "98             3348.39\n",
            "99             4722.59\n",
            "\n",
            "[100 rows x 1 columns]\n"
          ]
        }
      ]
    },
    {
      "cell_type": "code",
      "source": [
        "# Membuat model regresi\n",
        "model = LinearRegression()\n",
        "model.fit(X, Y)\n",
        "\n",
        "# Prediksi nilai Y\n",
        "Y_pred = model.predict(X)\n",
        "print(Y_pred)"
      ],
      "metadata": {
        "colab": {
          "base_uri": "https://localhost:8080/"
        },
        "id": "Z4kXfl_Hx0zY",
        "outputId": "d1c271c8-8460-4577-e3d3-81707d78de62"
      },
      "execution_count": null,
      "outputs": [
        {
          "output_type": "stream",
          "name": "stdout",
          "text": [
            "[[10118.43275742]\n",
            " [27029.25738087]\n",
            " [36377.94823462]\n",
            " [31089.34339251]\n",
            " [33429.88460609]\n",
            " [35881.91423144]\n",
            " [28469.18685742]\n",
            " [ 4499.89375982]\n",
            " [23276.68860342]\n",
            " [37199.02759662]\n",
            " [37504.75624666]\n",
            " [21380.78940856]\n",
            " [28420.53736864]\n",
            " [35469.46672735]\n",
            " [29308.86749454]\n",
            " [ 7763.34439279]\n",
            " [35420.3402828 ]\n",
            " [24121.97347086]\n",
            " [16351.29078974]\n",
            " [24467.28945   ]\n",
            " [28174.78590697]\n",
            " [34635.86727633]\n",
            " [36963.05372828]\n",
            " [31470.7887714 ]\n",
            " [41634.12008422]\n",
            " [26093.82787246]\n",
            " [26932.07764226]\n",
            " [29511.45445882]\n",
            " [23635.00162735]\n",
            " [20771.00145368]\n",
            " [32934.92375339]\n",
            " [30845.26127603]\n",
            " [48000.52573278]\n",
            " [17798.25536393]\n",
            " [18862.22445297]\n",
            " [23687.4667623 ]\n",
            " [25950.86037972]\n",
            " [22548.25790018]\n",
            " [ 4630.69888037]\n",
            " [42856.7962065 ]\n",
            " [33057.62062581]\n",
            " [21739.81786615]\n",
            " [34348.85914035]\n",
            " [28758.81825014]\n",
            " [26939.23197885]\n",
            " [17762.48368101]\n",
            " [37629.24170323]\n",
            " [ 8524.20808854]\n",
            " [13670.20315474]\n",
            " [25423.34729556]\n",
            " [13632.40440979]\n",
            " [27157.91620044]\n",
            " [38859.19140103]\n",
            " [12587.39431269]\n",
            " [19228.76496398]\n",
            " [35745.50488056]\n",
            " [11703.11831086]\n",
            " [35371.57155509]\n",
            " [32076.28412432]\n",
            " [10195.69959254]\n",
            " [ 3994.32064119]\n",
            " [37500.10592788]\n",
            " [18427.71774441]\n",
            " [ 8452.90320058]\n",
            " [39695.53334774]\n",
            " [40887.20734481]\n",
            " [30508.41126185]\n",
            " [24204.24834158]\n",
            " [12192.59417218]\n",
            " [21785.12866452]\n",
            " [24878.06760889]\n",
            " [32247.0342908 ]\n",
            " [39555.66606752]\n",
            " [29728.82705204]\n",
            " [23762.11034067]\n",
            " [16193.53766805]\n",
            " [31023.40425699]\n",
            " [34842.62760361]\n",
            " [13064.46932393]\n",
            " [30943.1564483 ]\n",
            " [23417.50979519]\n",
            " [28108.9660104 ]\n",
            " [24250.99000727]\n",
            " [46304.47100651]\n",
            " [20002.74494346]\n",
            " [31427.38579612]\n",
            " [35761.24442105]\n",
            " [13245.47403951]\n",
            " [37709.37027298]\n",
            " [23668.6270093 ]\n",
            " [17105.95406045]\n",
            " [23378.5186608 ]\n",
            " [21626.30239234]\n",
            " [26629.68768263]\n",
            " [25286.6994668 ]\n",
            " [11850.25916662]\n",
            " [26608.22467288]\n",
            " [ 9856.46479949]\n",
            " [15875.52740688]\n",
            " [32261.34296397]]\n"
          ]
        }
      ]
    },
    {
      "cell_type": "markdown",
      "source": [
        "**Penjelasan Output:** Setiap angka dalam array 2D adalah nilai prediksi dari Square Footage berdasarkan jumlah energi yang digunakan (Energy Consumption).\n",
        "> Contoh:\n",
        "Bangunan dengan konsumsi energi tertentu diprediksi memiliki luas 10,118.43 square feet.\n",
        "Bangunan lain dengan konsumsi energi lebih tinggi diprediksi memiliki luas 36,377.95 square feet. **(Square Footage berarti mempengaruhi Energy Consumption)**"
      ],
      "metadata": {
        "id": "1tIH9bytICy5"
      }
    },
    {
      "cell_type": "code",
      "source": [
        "# Menampilkan hasil regresi\n",
        "print(model.intercept_)\n",
        "print(model.coef_)\n",
        "print(r2_score(Y,Y_pred))"
      ],
      "metadata": {
        "colab": {
          "base_uri": "https://localhost:8080/"
        },
        "outputId": "6b26aecd-ad28-4042-f56b-d76ccb36b185",
        "id": "pEX4LB7WyI5W"
      },
      "execution_count": null,
      "outputs": [
        {
          "output_type": "stream",
          "name": "stdout",
          "text": [
            "[-24050.32105275]\n",
            "[[11.92389431]]\n",
            "0.5242327298219547\n"
          ]
        }
      ]
    },
    {
      "cell_type": "markdown",
      "source": [
        "> **Output 01** = Jika semua fitur bernilai 0, maka konsumsi energi diprediksi sekitar -24050.32. Nilai negatif bisa dikarenakan skala fitur (jika X memiliki nilai yang besar, sementara Y lebih kecil atau berbeda skala).\n",
        "\n",
        "> **Output 2** = Setiap kenaikan 1 unit dalam Energy Consumption, maka Square Footage meningkat sekitar 11.92. (Semakin besar koefisien, semakin besar pengaruh variabel terhadap prediksi).\n",
        "\n",
        "> **Output 03** = R² = 0.524 berarti 52.4% variasi dalam Square Footage bisa dijelaskan oleh Energy Consumption. Nilai ini menunjukkan bahwa model cukup baik, tapi masih ada variabel lain yang berpengaruh."
      ],
      "metadata": {
        "id": "P067cWnSI-mR"
      }
    },
    {
      "cell_type": "code",
      "source": [
        "import statsmodels.api as sm\n",
        "\n",
        "# Menambahkan konstanta untuk estimasi intersep\n",
        "X = sm.add_constant(X)\n",
        "\n",
        "# Model regresi dengan OLS\n",
        "model_ols = sm.OLS(Y, X).fit()\n",
        "print(model_ols.summary())"
      ],
      "metadata": {
        "colab": {
          "base_uri": "https://localhost:8080/"
        },
        "outputId": "e10cbcc5-268e-4608-c97d-4c67c797c451",
        "id": "NerdRzroyI5W"
      },
      "execution_count": null,
      "outputs": [
        {
          "output_type": "stream",
          "name": "stdout",
          "text": [
            "                            OLS Regression Results                            \n",
            "==============================================================================\n",
            "Dep. Variable:         Square Footage   R-squared:                       0.524\n",
            "Model:                            OLS   Adj. R-squared:                  0.519\n",
            "Method:                 Least Squares   F-statistic:                     108.0\n",
            "Date:                Mon, 10 Mar 2025   Prob (F-statistic):           1.71e-17\n",
            "Time:                        01:17:53   Log-Likelihood:                -1056.8\n",
            "No. Observations:                 100   AIC:                             2118.\n",
            "Df Residuals:                      98   BIC:                             2123.\n",
            "Df Model:                           1                                         \n",
            "Covariance Type:            nonrobust                                         \n",
            "======================================================================================\n",
            "                         coef    std err          t      P>|t|      [0.025      0.975]\n",
            "--------------------------------------------------------------------------------------\n",
            "const              -2.405e+04   4898.225     -4.910      0.000   -3.38e+04   -1.43e+04\n",
            "Energy Consumption    11.9239      1.147     10.391      0.000       9.647      14.201\n",
            "==============================================================================\n",
            "Omnibus:                        4.832   Durbin-Watson:                   1.839\n",
            "Prob(Omnibus):                  0.089   Jarque-Bera (JB):                3.476\n",
            "Skew:                          -0.313   Prob(JB):                        0.176\n",
            "Kurtosis:                       2.335   Cond. No.                     2.20e+04\n",
            "==============================================================================\n",
            "\n",
            "Notes:\n",
            "[1] Standard Errors assume that the covariance matrix of the errors is correctly specified.\n",
            "[2] The condition number is large, 2.2e+04. This might indicate that there are\n",
            "strong multicollinearity or other numerical problems.\n"
          ]
        }
      ]
    },
    {
      "cell_type": "markdown",
      "source": [
        "## **Interpretasi Regresi OLS:**\n",
        "> Kualitas Model:\n",
        "* R-squared = 0.524 → Model menjelaskan 52.4% variasi dalam Square Footage berdasarkan Energy Consumption.\n",
        "* Adj. R-squared = 0.519 → Koreksi terhadap jumlah variabel independen (karena hanya ada satu fitur, nilainya hampir sama dengan R²).\n",
        "* Kesimpulan: Model cukup baik, tetapi masih ada 47.6% variabilitas yang tidak dijelaskan oleh Energy Consumption.\n",
        "\n",
        "> Signifikansi Model\n",
        "* F-statistic = 108.0, dengan p-value = 1.71e-17 (≈ 0.000) → Model sangat signifikan secara statistik.\n",
        "* Kesimpulan: Ada hubungan yang kuat antara Energy Consumption dan Square Footage.\n",
        "\n",
        "> Interpretasi Koefisien\n",
        "* P>|t| (p-value) = 0.000 untuk kedua variabel → Sangat signifikan secara statistik.\n",
        "* 95% Confidence Interval untuk Energy Consumption: [9.65, 14.20] → Koefisien berkisar antara nilai ini.\n",
        "\n",
        "> Diagnostik Model\n",
        "* Normalitas Error (Omnibus & Jarque-Bera Test): Omnibus = 4.832, Prob = 0.089 (p > 0.05) → Tidak ada bukti kuat bahwa error tidak normal.\n",
        "* Skew = -0.313 → Error agak condong ke kiri, tetapi tidak signifikan. Kesimpulan: Error cukup mendekati normal.\n",
        "* Independensi Residual (Durbin-Watson Test): Durbin-Watson = 1.839 → Nilai mendekati 2, yang berarti tidak ada autokorelasi yang mencolok.\n",
        "Kesimpulan: Model cukup baik dalam hal independensi residual.\n",
        "* Multikolinearitas (Condition Number): Cond. No. = 2.2e+04 (22,000) → Sangat tinggi."
      ],
      "metadata": {
        "id": "aWeNWaB5KMls"
      }
    },
    {
      "cell_type": "code",
      "source": [
        "from sklearn.metrics import mean_squared_error\n",
        "\n",
        "# Mean Squared Error\n",
        "mse = mean_squared_error(Y, Y_pred)\n",
        "r2 = r2_score(Y, Y_pred)\n",
        "\n",
        "print(f\"Mean Squared Error (MSE): {mse:.4f}\")\n",
        "print(f\"R-squared: {r2:.4f}\")"
      ],
      "metadata": {
        "colab": {
          "base_uri": "https://localhost:8080/"
        },
        "id": "gd79p15l8nGm",
        "outputId": "dc1f124e-6e21-4a4a-fab7-d165335b51a3"
      },
      "execution_count": null,
      "outputs": [
        {
          "output_type": "stream",
          "name": "stdout",
          "text": [
            "Mean Squared Error (MSE): 88546782.7531\n",
            "R-squared: 0.5242\n"
          ]
        }
      ]
    },
    {
      "cell_type": "markdown",
      "source": [
        "**Interpretasi MSE dan R-Squared:**\n",
        "* Model regresi cukup baik, tetapi masih bisa ditingkatkan.\n",
        "* R-squared (0.524) menunjukkan bahwa model hanya menjelaskan 52.42% variabilitas dalam Square Footage, sisanya dipengaruhi oleh faktor lain yang belum dimasukkan ke dalam model.\n",
        "* MSE (88,546,782.75) cukup besar, menunjukkan bahwa prediksi model masih memiliki kesalahan yang signifikan.\n",
        "* Perlu penambahan variabel lain atau metode yang lebih kompleks untuk meningkatkan akurasi model.\n"
      ],
      "metadata": {
        "id": "wDUJ31BaLtq5"
      }
    },
    {
      "cell_type": "markdown",
      "source": [
        "# **Model 2**"
      ],
      "metadata": {
        "id": "G_72EAoClBkj"
      }
    },
    {
      "cell_type": "code",
      "source": [
        "# Definisikan X dan Y\n",
        "Z = df[['Energy Consumption']]  # Harus berbentuk array 2D\n",
        "A = df.drop(['Energy Consumption','Day of Week'], axis=1)"
      ],
      "metadata": {
        "id": "JR_EVW39lC-z"
      },
      "execution_count": null,
      "outputs": []
    },
    {
      "cell_type": "code",
      "source": [
        "print(A)"
      ],
      "metadata": {
        "colab": {
          "base_uri": "https://localhost:8080/"
        },
        "id": "q9wX7PkRlfzr",
        "outputId": "7002e952-149c-4d0d-bba5-64f9e041f86b"
      },
      "execution_count": null,
      "outputs": [
        {
          "output_type": "stream",
          "name": "stdout",
          "text": [
            "   Building Type  Square Footage  Number of Occupants  Appliances Used  \\\n",
            "0    Residential           24563                   15                4   \n",
            "1     Commercial           27583                   56               23   \n",
            "2     Commercial           45313                    4               44   \n",
            "3    Residential           41625                   84               17   \n",
            "4    Residential           36720                   58               47   \n",
            "..           ...             ...                  ...              ...   \n",
            "95    Commercial            1161                   81               11   \n",
            "96   Residential           37943                   50               23   \n",
            "97    Commercial            1558                   27               29   \n",
            "98    Industrial            2145                   56               12   \n",
            "99   Residential           42414                   72               24   \n",
            "\n",
            "    Average Temperature  \n",
            "0                 28.52  \n",
            "1                 23.07  \n",
            "2                 33.56  \n",
            "3                 27.39  \n",
            "4                 17.08  \n",
            "..                  ...  \n",
            "95                15.45  \n",
            "96                21.73  \n",
            "97                16.86  \n",
            "98                11.77  \n",
            "99                29.62  \n",
            "\n",
            "[100 rows x 5 columns]\n"
          ]
        }
      ]
    },
    {
      "cell_type": "code",
      "source": [
        "from sklearn.preprocessing import OneHotEncoder\n",
        "\n",
        "# Menggunakan OneHotEncoder untuk mengubah data kategorikal\n",
        "encoder = OneHotEncoder(drop='first', sparse_output=False)\n",
        "A_encoded = encoder.fit_transform(A[['Building Type']])\n",
        "\n",
        "# Mengubah hasil encoding menjadi DataFrame\n",
        "A_encoded_df = pd.DataFrame(A_encoded, columns=encoder.get_feature_names_out(['Building Type']))\n",
        "\n",
        "# Gabungkan dengan fitur numerik lainnya\n",
        "A_numeric = A.drop(columns=['Building Type']).reset_index(drop=True)\n",
        "A_final = pd.concat([A_numeric, A_encoded_df], axis=1)"
      ],
      "metadata": {
        "id": "B-Ss0BgKmuN9"
      },
      "execution_count": null,
      "outputs": []
    },
    {
      "cell_type": "markdown",
      "source": [
        "### **Penjelasan Input:**\n",
        "\n",
        "> OneHotEncoder dari sklearn.preprocessing digunakan untuk mengonversi kolom kategorikal 'Building Type' dan 'Day of Week' menjadi representasi numerik.\n",
        "\n",
        "* drop='first' menghapus satu kategori untuk menghindari dummy variable trap (redundansi).\n",
        "* sparse_output=False memastikan hasilnya berbentuk array biasa, bukan sparse matrix.\n",
        "* Transformasi dilakukan menggunakan fit_transform(), menghasilkan array dengan nilai biner.\n",
        "\n",
        "> DataFrame Baru dibuat dengan kolom yang diberi nama sesuai dengan fitur yang dienkode menggunakan get_feature_names_out().\n",
        "\n",
        "> Menggabungkan Data:\n",
        "\n",
        "* Fitur numerik lainnya dalam X disimpan di X_numeric dengan menghapus 'Building Type' dan 'Day of Week'.\n",
        "* Data hasil encoding (X_encoded_df) dikombinasikan dengan X_numeric menggunakan pd.concat()."
      ],
      "metadata": {
        "id": "i3Wu2n_jNH9S"
      }
    },
    {
      "cell_type": "code",
      "source": [
        "# Model Regresi 2\n",
        "model = LinearRegression()\n",
        "model.fit(A_final, Z) # Use A_final instead of A\n",
        "\n",
        "# Prediksi Nilai Y\n",
        "Z_pred = model.predict(A_final) # Use A_final instead of A\n",
        "print(Z_pred)"
      ],
      "metadata": {
        "colab": {
          "base_uri": "https://localhost:8080/"
        },
        "id": "maw8LAIHliIV",
        "outputId": "8e88d8a1-0daf-4c98-f9da-c245ec35a306"
      },
      "execution_count": null,
      "outputs": [
        {
          "output_type": "stream",
          "name": "stdout",
          "text": [
            "[[2837.14203033]\n",
            " [4306.04141928]\n",
            " [5056.72576861]\n",
            " [4655.04467301]\n",
            " [4799.80888625]\n",
            " [4999.34123991]\n",
            " [4437.29159941]\n",
            " [2361.89226096]\n",
            " [3985.49174408]\n",
            " [5102.16228785]\n",
            " [5184.37859765]\n",
            " [3819.42527252]\n",
            " [4422.32070733]\n",
            " [4968.25246756]\n",
            " [4485.97549316]\n",
            " [2638.65324084]\n",
            " [4962.59756833]\n",
            " [4057.82873021]\n",
            " [3357.58627782]\n",
            " [4093.50448299]\n",
            " [4396.51644925]\n",
            " [4949.22971046]\n",
            " [5136.02491213]\n",
            " [4677.14887171]\n",
            " [5533.50554004]\n",
            " [4179.48561853]\n",
            " [4301.44681353]\n",
            " [4517.35823343]\n",
            " [3975.18151509]\n",
            " [3783.8964806 ]\n",
            " [4793.66220583]\n",
            " [4590.37654546]\n",
            " [6022.1204315 ]\n",
            " [3525.43213546]\n",
            " [3619.20883046]\n",
            " [4027.15939348]\n",
            " [4178.1326329 ]\n",
            " [3929.40078272]\n",
            " [2421.76448493]\n",
            " [5596.33374893]\n",
            " [4818.65105908]\n",
            " [3860.04020864]\n",
            " [4879.86772818]\n",
            " [4452.7889312 ]\n",
            " [4298.93854373]\n",
            " [3521.85975777]\n",
            " [5148.56287296]\n",
            " [2704.13986015]\n",
            " [3177.48023161]\n",
            " [4118.41950647]\n",
            " [3180.30797628]\n",
            " [4278.93755666]\n",
            " [5253.57691315]\n",
            " [3098.11145824]\n",
            " [3586.81967766]\n",
            " [5042.37896783]\n",
            " [3013.48762567]\n",
            " [5012.11239275]\n",
            " [4677.2608362 ]\n",
            " [2890.6165589 ]\n",
            " [2373.70419611]\n",
            " [5142.00755196]\n",
            " [3586.00039757]\n",
            " [2690.59554581]\n",
            " [5374.85903598]\n",
            " [5471.15493993]\n",
            " [4586.16321346]\n",
            " [4019.18932574]\n",
            " [3056.63450062]\n",
            " [3868.80392983]\n",
            " [4126.27771541]\n",
            " [4734.08277212]\n",
            " [5306.2973861 ]\n",
            " [4481.19861623]\n",
            " [3976.40169934]\n",
            " [3334.91087193]\n",
            " [4602.21861196]\n",
            " [4906.47617888]\n",
            " [3130.07567012]\n",
            " [4586.40410584]\n",
            " [3954.57392258]\n",
            " [4342.13927506]\n",
            " [4021.51001932]\n",
            " [5886.73963374]\n",
            " [3663.08503995]\n",
            " [4675.23542869]\n",
            " [4985.8420787 ]\n",
            " [3144.11979097]\n",
            " [5204.13254756]\n",
            " [3972.13481898]\n",
            " [3426.69918608]\n",
            " [3998.17262193]\n",
            " [3804.26657614]\n",
            " [4265.81940731]\n",
            " [4158.17500398]\n",
            " [3016.2865715 ]\n",
            " [4275.72201877]\n",
            " [2853.37413698]\n",
            " [3350.89552297]\n",
            " [4706.24138614]]\n"
          ]
        }
      ]
    },
    {
      "cell_type": "markdown",
      "source": [
        "**Penjelasan Z_Pred**\n",
        "\n",
        "> Z_pred merupakan nilai perkiraan Energy Consumption berdasarkan fitur-fitur yang diberikan (jumlah penghuni, suhu rata-rata, tipe bangunan, dan hari dalam seminggu).\n",
        "\n",
        "> => Semakin besar Square Footage → Bisa jadi konsumsi energi naik karena bangunan lebih besar butuh lebih banyak listrik.\n",
        "Semakin banyak penghuni → Bisa meningkatkan penggunaan energi.\n",
        "Suhu rata-rata → Bisa mempengaruhi AC/heater, yang berdampak pada konsumsi energi."
      ],
      "metadata": {
        "id": "4nsM5tN5N5VL"
      }
    },
    {
      "cell_type": "code",
      "source": [
        "# Menampilkan hasil regresi\n",
        "print(model.intercept_)\n",
        "print(model.coef_)\n",
        "print(r2_score(Z,Z_pred))"
      ],
      "metadata": {
        "colab": {
          "base_uri": "https://localhost:8080/"
        },
        "id": "if3ZDl2BlvCP",
        "outputId": "86be32dd-0f23-4cd9-d078-1501f4bb3347"
      },
      "execution_count": null,
      "outputs": [
        {
          "output_type": "stream",
          "name": "stdout",
          "text": [
            "[1993.74343378]\n",
            "[[ 5.03883178e-02  1.00066745e+01  2.02066709e+01 -4.45124339e+00\n",
            "   4.98606461e+02 -4.98266992e+02]]\n",
            "0.9991719772262697\n"
          ]
        }
      ]
    },
    {
      "cell_type": "markdown",
      "source": [
        "> **Output 01:** Jika semua variabel independen bernilai nol, maka konsumsi energi diprediksi sekitar 1993.74 unit.\n",
        "\n",
        "> **Output 02:**\n",
        "* Square Footage (0.0504):\tSetiap tambahan 1 unit luas bangunan, konsumsi energi naik 0.0504 unit.\n",
        "* Number of Occupants\t(10.0067):\tSetiap tambahan 1 orang penghuni, konsumsi energi naik 10.0067 unit.\n",
        "* Appliances Used\t(20.2067):\tSetiap tambahan 1 perangkat listrik, konsumsi energi naik 20.2067 unit.\n",
        "* Building Type (Kategori):\t-4.4512\tKalau ini numerik dari encoding, pengaruhnya kecil dan negatif.\n",
        "* Average Temperature\t(498.6064):\tSetiap kenaikan 1 derajat suhu rata-rata, konsumsi energi naik 498.6 unit.\n",
        "* Intercepted Feature\t[-498.267]:\tEfek dummy variabel atau kolinearitas.\n",
        "\n",
        "> **Output 03:** Model dapat menjelaskan 99.92% variasi dalam konsumsi energi berdasarkan fitur yang diberikan."
      ],
      "metadata": {
        "id": "Tm0VvFzrOs2k"
      }
    },
    {
      "cell_type": "code",
      "source": [
        "from sklearn.preprocessing import OneHotEncoder\n",
        "\n",
        "# Inisialisasi encoder\n",
        "encoder = OneHotEncoder(drop='first', sparse_output=False)\n",
        "\n",
        "# Fit dan transform kolom kategorikal\n",
        "A_encoded = encoder.fit_transform(A[['Building Type']])\n",
        "\n",
        "# Mengubah hasil encoding menjadi DataFrame\n",
        "encoded_cols = encoder.get_feature_names_out(['Building Type'])\n",
        "A_encoded_df = pd.DataFrame(A_encoded, columns=encoded_cols, index=A.index)\n",
        "\n",
        "# Gabungkan kembali dengan dataset asli (hapus kolom lama)\n",
        "A = A.drop(['Building Type'], axis=1)\n",
        "A = pd.concat([A, A_encoded_df], axis=1)\n",
        "\n",
        "print(A.head())\n",
        "print(A.dtypes)"
      ],
      "metadata": {
        "colab": {
          "base_uri": "https://localhost:8080/"
        },
        "id": "u4ABygCVn7p9",
        "outputId": "093ec148-ff86-4c45-e248-acf0b813e893"
      },
      "execution_count": null,
      "outputs": [
        {
          "output_type": "stream",
          "name": "stdout",
          "text": [
            "   Square Footage  Number of Occupants  Appliances Used  Average Temperature  \\\n",
            "0           24563                   15                4                28.52   \n",
            "1           27583                   56               23                23.07   \n",
            "2           45313                    4               44                33.56   \n",
            "3           41625                   84               17                27.39   \n",
            "4           36720                   58               47                17.08   \n",
            "\n",
            "   Building Type_Industrial  Building Type_Residential  \n",
            "0                       0.0                        1.0  \n",
            "1                       0.0                        0.0  \n",
            "2                       0.0                        0.0  \n",
            "3                       0.0                        1.0  \n",
            "4                       0.0                        1.0  \n",
            "Square Footage                 int64\n",
            "Number of Occupants            int64\n",
            "Appliances Used                int64\n",
            "Average Temperature          float64\n",
            "Building Type_Industrial     float64\n",
            "Building Type_Residential    float64\n",
            "dtype: object\n"
          ]
        }
      ]
    },
    {
      "cell_type": "code",
      "source": [
        "import statsmodels.api as sm\n",
        "\n",
        "# Menambahkan konstanta untuk estimasi intersep\n",
        "A = sm.add_constant(A)\n",
        "\n",
        "# Model regresi dengan OLS\n",
        "model_ols = sm.OLS(Z, A).fit()\n",
        "print(model_ols.summary())"
      ],
      "metadata": {
        "colab": {
          "base_uri": "https://localhost:8080/"
        },
        "id": "DCRmBRa-oNK5",
        "outputId": "b8005155-62ae-4502-c77b-a29f68bfc058"
      },
      "execution_count": null,
      "outputs": [
        {
          "output_type": "stream",
          "name": "stdout",
          "text": [
            "                            OLS Regression Results                            \n",
            "==============================================================================\n",
            "Dep. Variable:     Energy Consumption   R-squared:                       0.999\n",
            "Model:                            OLS   Adj. R-squared:                  0.999\n",
            "Method:                 Least Squares   F-statistic:                 1.870e+04\n",
            "Date:                Mon, 10 Mar 2025   Prob (F-statistic):          5.62e-141\n",
            "Time:                        01:17:53   Log-Likelihood:                -459.02\n",
            "No. Observations:                 100   AIC:                             932.0\n",
            "Df Residuals:                      93   BIC:                             950.3\n",
            "Df Model:                           6                                         \n",
            "Covariance Type:            nonrobust                                         \n",
            "=============================================================================================\n",
            "                                coef    std err          t      P>|t|      [0.025      0.975]\n",
            "---------------------------------------------------------------------------------------------\n",
            "const                      1993.7434     13.363    149.198      0.000    1967.207    2020.280\n",
            "Square Footage                0.0504      0.000    268.921      0.000       0.050       0.051\n",
            "Number of Occupants          10.0067      0.084    119.823      0.000       9.841      10.173\n",
            "Appliances Used              20.2067      0.180    112.129      0.000      19.849      20.565\n",
            "Average Temperature          -4.4512      0.362    -12.295      0.000      -5.170      -3.732\n",
            "Building Type_Industrial    498.6065      6.618     75.336      0.000     485.464     511.749\n",
            "Building Type_Residential  -498.2670      6.298    -79.116      0.000    -510.773    -485.761\n",
            "==============================================================================\n",
            "Omnibus:                     2135.657   Durbin-Watson:                   2.226\n",
            "Prob(Omnibus):                  0.000   Jarque-Bera (JB):               12.541\n",
            "Skew:                           0.249   Prob(JB):                      0.00189\n",
            "Kurtosis:                       1.338   Cond. No.                     1.64e+05\n",
            "==============================================================================\n",
            "\n",
            "Notes:\n",
            "[1] Standard Errors assume that the covariance matrix of the errors is correctly specified.\n",
            "[2] The condition number is large, 1.64e+05. This might indicate that there are\n",
            "strong multicollinearity or other numerical problems.\n"
          ]
        }
      ]
    },
    {
      "cell_type": "markdown",
      "source": [
        "## **Interpretasi Regresi OLS**\n",
        "\n",
        "> ***Statistik Model:***\n",
        "* **R Score\t(0.999):**\tModel menjelaskan 99.9% variasi dalam konsumsi energi.\n",
        "* **Adj. 𝑅 (0.999):**\tSetelah penyesuaian jumlah variabel, akurasi tetap 99.9% (hampir tidak ada overfitting).\n",
        "* **F-statistic\t(1.870e+04):**\tModel sangat signifikan secara keseluruhan.\n",
        "* **Prob (5.62e-141):**\tP-value sangat kecil → Model secara keseluruhan baik dalam menjelaskan data.\n",
        "\n",
        "> ***Interpretasi Koefisien***\n",
        "* **Intercept (const)**\t-> 1993.74 -> 0.000\tSaat semua variabel nol, konsumsi energi sekitar 1993.74 unit.\n",
        "* **Square Footage** ->\t0.0504 ->\t0.000\tSetiap tambahan 1 unit luas bangunan, konsumsi energi naik 0.0504 unit.\n",
        "* **Number of Occupants**\t-> 10.0067\t-> 0.000\tSetiap tambahan 1 orang penghuni, konsumsi energi naik 10.0067 unit.\n",
        "* **Appliances Used**\t-> 20.2067 ->\t0.000\tSetiap tambahan 1 perangkat listrik, konsumsi energi naik 20.2067 unit.\n",
        "* **Average Temperature** -> -4.4512\t-> 0.000\tSetiap kenaikan 1 derajat suhu, konsumsi energi turun 4.4512 unit.\n",
        "* **Building Type_Industrial**\t-> 498.6065\t-> 0.000\tJika Industrial, konsumsi energi naik 498.6 unit dibandingkan tipe referensi.\n",
        "* **Building Type_Residential**\t-> -498.2670\t-> 0.000\tJika Residential, konsumsi energi turun 498.3 unit dibandingkan tipe referensi.\n",
        "\n",
        "> ***Multikolinearitas & Masalah Statistik***\n",
        "* **Durbin-Watson\t(2.226):**\tTidak ada masalah autokorelasi residual.\n",
        "* **Omnibus & Jarque-Bera Tests\t(p < 0.05):**\tData tidak sepenuhnya normal (ada outlier).\n",
        "* **Condition Number (1.64e+05):**\tTinggi → Ada kemungkinan multikolinearitas."
      ],
      "metadata": {
        "id": "RG1YHb6XRu9c"
      }
    },
    {
      "cell_type": "code",
      "source": [
        "from sklearn.metrics import mean_squared_error\n",
        "\n",
        "# Mean Squared Error\n",
        "mse = mean_squared_error(Z, Z_pred)\n",
        "r2 = r2_score(Z, Z_pred)\n",
        "\n",
        "print(f\"Mean Squared Error (MSE): {mse:.4f}\")\n",
        "print(f\"R-squared: {r2:.4f}\")"
      ],
      "metadata": {
        "colab": {
          "base_uri": "https://localhost:8080/"
        },
        "id": "I9TIy4ywoQpZ",
        "outputId": "ffb5de0b-cf34-4c58-a53d-883c4b46fe81"
      },
      "execution_count": null,
      "outputs": [
        {
          "output_type": "stream",
          "name": "stdout",
          "text": [
            "Mean Squared Error (MSE): 568.2094\n",
            "R-squared: 0.9992\n"
          ]
        }
      ]
    },
    {
      "cell_type": "markdown",
      "source": [
        "### **Interpretasi MSE dan RScore:**\n",
        "> Nilai MSE (568.2094): rata-rata kesalahan prediksi model adalah sekitar 568.2 unit dalam skala kuadrat.\n",
        "\n",
        "> RScore (0.9992): sekitar 99.92% dari variasi konsumsi energi dapat dijelaskan oleh model regresi. Hanya sekitar 0.08% variasi yang tidak dapat dijelaskan oleh model."
      ],
      "metadata": {
        "id": "qepbf5ZgVpca"
      }
    },
    {
      "cell_type": "code",
      "source": [
        "A1 = df[['Number of Occupants']]"
      ],
      "metadata": {
        "id": "an_zndouod_U"
      },
      "execution_count": null,
      "outputs": []
    },
    {
      "cell_type": "code",
      "source": [
        "print(A1)"
      ],
      "metadata": {
        "colab": {
          "base_uri": "https://localhost:8080/"
        },
        "id": "UIiiurJmoqTp",
        "outputId": "fba75fb9-7f03-4cb0-cd4f-2e92bdd1b371"
      },
      "execution_count": null,
      "outputs": [
        {
          "output_type": "stream",
          "name": "stdout",
          "text": [
            "    Number of Occupants\n",
            "0                    15\n",
            "1                    56\n",
            "2                     4\n",
            "3                    84\n",
            "4                    58\n",
            "..                  ...\n",
            "95                   81\n",
            "96                   50\n",
            "97                   27\n",
            "98                   56\n",
            "99                   72\n",
            "\n",
            "[100 rows x 1 columns]\n"
          ]
        }
      ]
    },
    {
      "cell_type": "code",
      "source": [
        "# Membuat model regresi\n",
        "model = LinearRegression()\n",
        "model.fit(A1, Z)\n",
        "\n",
        "# Prediksi nilai Y\n",
        "Z1_pred = model.predict(A1)\n",
        "print(Z1_pred)"
      ],
      "metadata": {
        "colab": {
          "base_uri": "https://localhost:8080/"
        },
        "id": "vEULFou4or97",
        "outputId": "b489b2fa-a766-48c1-cc05-180c55b782da"
      },
      "execution_count": null,
      "outputs": [
        {
          "output_type": "stream",
          "name": "stdout",
          "text": [
            "[[3910.6857468 ]\n",
            " [4262.922628  ]\n",
            " [3816.18316892]\n",
            " [4503.47464444]\n",
            " [4280.10491489]\n",
            " [4185.60233701]\n",
            " [3936.45917713]\n",
            " [3962.23260746]\n",
            " [3988.0060378 ]\n",
            " [4555.0215051 ]\n",
            " [4529.24807477]\n",
            " [3979.41489435]\n",
            " [3799.00088203]\n",
            " [4486.29235755]\n",
            " [4469.11007066]\n",
            " [3867.73002958]\n",
            " [4408.97206655]\n",
            " [4262.922628  ]\n",
            " [4451.92778377]\n",
            " [4194.19348045]\n",
            " [4219.96691078]\n",
            " [4606.56836576]\n",
            " [3953.64146402]\n",
            " [4529.24807477]\n",
            " [4125.4643329 ]\n",
            " [4623.75065265]\n",
            " [4013.77946813]\n",
            " [4039.55289846]\n",
            " [3988.0060378 ]\n",
            " [3867.73002958]\n",
            " [4185.60233701]\n",
            " [3850.54774269]\n",
            " [4503.47464444]\n",
            " [4013.77946813]\n",
            " [3867.73002958]\n",
            " [3841.95659925]\n",
            " [3876.32117302]\n",
            " [3850.54774269]\n",
            " [3807.59202547]\n",
            " [4211.37576734]\n",
            " [4383.19863622]\n",
            " [4563.61264854]\n",
            " [4228.55805423]\n",
            " [4555.0215051 ]\n",
            " [4091.09975912]\n",
            " [4615.15950921]\n",
            " [3833.3654558 ]\n",
            " [4134.05547634]\n",
            " [4065.32632879]\n",
            " [4383.19863622]\n",
            " [4022.37061157]\n",
            " [4039.55289846]\n",
            " [4537.83921821]\n",
            " [4323.06063211]\n",
            " [4159.82890668]\n",
            " [3824.77431236]\n",
            " [4529.24807477]\n",
            " [4228.55805423]\n",
            " [4048.1440419 ]\n",
            " [4383.19863622]\n",
            " [3850.54774269]\n",
            " [4142.64661979]\n",
            " [4408.97206655]\n",
            " [3945.05032058]\n",
            " [4039.55289846]\n",
            " [4391.78977966]\n",
            " [4520.65693132]\n",
            " [4134.05547634]\n",
            " [3893.50345991]\n",
            " [3970.82375091]\n",
            " [4202.7846239 ]\n",
            " [4366.01634933]\n",
            " [4632.3417961 ]\n",
            " [4013.77946813]\n",
            " [4417.56321   ]\n",
            " [4048.1440419 ]\n",
            " [4623.75065265]\n",
            " [4091.09975912]\n",
            " [3816.18316892]\n",
            " [3859.13888614]\n",
            " [3953.64146402]\n",
            " [3816.18316892]\n",
            " [3953.64146402]\n",
            " [4237.14919767]\n",
            " [4297.28720178]\n",
            " [4426.15435344]\n",
            " [4469.11007066]\n",
            " [3893.50345991]\n",
            " [4572.20379199]\n",
            " [4331.65177556]\n",
            " [4005.18832468]\n",
            " [4348.83406244]\n",
            " [4348.83406244]\n",
            " [4632.3417961 ]\n",
            " [3962.23260746]\n",
            " [4477.7012141 ]\n",
            " [4211.37576734]\n",
            " [4013.77946813]\n",
            " [4262.922628  ]\n",
            " [4400.38092311]]\n"
          ]
        }
      ]
    },
    {
      "cell_type": "markdown",
      "source": [
        "**Interpretasi Z1 Pred:**\n",
        "> Prediksi konsumsi energi (Z1_pred) hanya berdasarkan jumlah penghuni menggunakan regresi linear sederhana.\n",
        "\n",
        "> Semakin banyak penghuni, semakin tinggi konsumsi energi yang diprediksi.\n",
        "\n",
        "> Model ini tidak mempertimbangkan faktor lain seperti luas bangunan, suhu, atau jenis bangunan, sehingga prediksinya bisa kurang akurat dibanding model yang lebih kompleks."
      ],
      "metadata": {
        "id": "f6_gUvNnWVMT"
      }
    },
    {
      "cell_type": "code",
      "source": [
        "# Menampilkan hasil regresi\n",
        "print(model.intercept_)\n",
        "print(model.coef_)\n",
        "print(r2_score(Z,Z1_pred))"
      ],
      "metadata": {
        "colab": {
          "base_uri": "https://localhost:8080/"
        },
        "id": "cFpLQRZHo5mh",
        "outputId": "d6291a73-0f98-4e79-bd60-dc8ddb11e715"
      },
      "execution_count": null,
      "outputs": [
        {
          "output_type": "stream",
          "name": "stdout",
          "text": [
            "[3781.81859514]\n",
            "[[8.59114344]]\n",
            "0.09523002870910724\n"
          ]
        }
      ]
    },
    {
      "cell_type": "markdown",
      "source": [
        "### **Penjelasan Output Hasil Regresi:**\n",
        "\n",
        "(1) **Intercept (3781.82):** menunjukkan perkiraan konsumsi energi saat jumlah penghuni = 0.\n",
        "\n",
        "(2) **Koefisien regresi (8.59):** menunjukkan bahwa setiap tambahan 1 penghuni meningkatkan konsumsi energi sebesar 8.59 satuan energi (dalam unit yang digunakan di dataset).\n",
        "\n",
        "(3) **R-squared (R²) sebesar 0.095:** yang berarti hanya sekitar 9.5% variabilitas konsumsi energi yang dapat dijelaskan oleh jumlah penghuni."
      ],
      "metadata": {
        "id": "UK4TXCeDW5A5"
      }
    },
    {
      "cell_type": "code",
      "source": [
        "import statsmodels.api as sm\n",
        "\n",
        "# Menambahkan konstanta untuk estimasi intersep\n",
        "A_ = sm.add_constant(A1)\n",
        "\n",
        "# Model regresi dengan OLS\n",
        "model_ols = sm.OLS(Z, A1).fit()\n",
        "print(model_ols.summary())"
      ],
      "metadata": {
        "colab": {
          "base_uri": "https://localhost:8080/"
        },
        "id": "VHrqpwY7o_GM",
        "outputId": "106a5c3d-c2e8-457d-ab8f-53b8122a87bc"
      },
      "execution_count": null,
      "outputs": [
        {
          "output_type": "stream",
          "name": "stdout",
          "text": [
            "                                 OLS Regression Results                                \n",
            "=======================================================================================\n",
            "Dep. Variable:     Energy Consumption   R-squared (uncentered):                   0.743\n",
            "Model:                            OLS   Adj. R-squared (uncentered):              0.740\n",
            "Method:                 Least Squares   F-statistic:                              286.1\n",
            "Date:                Mon, 10 Mar 2025   Prob (F-statistic):                    5.82e-31\n",
            "Time:                        01:17:54   Log-Likelihood:                         -909.88\n",
            "No. Observations:                 100   AIC:                                      1822.\n",
            "Df Residuals:                      99   BIC:                                      1824.\n",
            "Df Model:                           1                                                  \n",
            "Covariance Type:            nonrobust                                                  \n",
            "=======================================================================================\n",
            "                          coef    std err          t      P>|t|      [0.025      0.975]\n",
            "---------------------------------------------------------------------------------------\n",
            "Number of Occupants    65.9118      3.897     16.914      0.000      58.180      73.644\n",
            "==============================================================================\n",
            "Omnibus:                        6.868   Durbin-Watson:                   1.673\n",
            "Prob(Omnibus):                  0.032   Jarque-Bera (JB):                3.046\n",
            "Skew:                          -0.103   Prob(JB):                        0.218\n",
            "Kurtosis:                       2.170   Cond. No.                         1.00\n",
            "==============================================================================\n",
            "\n",
            "Notes:\n",
            "[1] R² is computed without centering (uncentered) since the model does not contain a constant.\n",
            "[2] Standard Errors assume that the covariance matrix of the errors is correctly specified.\n"
          ]
        }
      ]
    },
    {
      "cell_type": "markdown",
      "source": [
        "### **Interpretasi Regresi OLS:**\n",
        "> **Kualitas Model**\n",
        "* R-squared (uncentered) = 0.743, menunjukkan bahwa 74.3% variasi konsumsi energi dapat dijelaskan oleh jumlah penghuni.\n",
        "* Adjusted R-squared = 0.740, yang berarti model tetap cukup kuat meskipun hanya menggunakan satu variabel.\n",
        "\n",
        "> **Pengaruh Variabel terhadap Konsumsi Energi**\n",
        "* Koefisien Jumlah Penghuni = 65.9118\n",
        "→ Setiap tambahan 1 penghuni meningkatkan konsumsi energi sebesar 65.91 satuan.\n",
        "* P-value = 0.000 → Variabel ini sangat signifikan dalam mempengaruhi konsumsi energi.\n",
        "\n",
        "> **Signifikansi Statistik**\n",
        "* F-statistic tinggi (286.1, p < 0.0001) → Model ini secara keseluruhan sangat signifikan.\n",
        "* Distribusi Residual:\n",
        "Omnibus Test (p = 0.032) menunjukkan ada sedikit deviasi dari normalitas. Dan\n",
        "Skewness dan kurtosis mendekati nilai normal, jadi distribusi error cukup baik."
      ],
      "metadata": {
        "id": "V_3RkTmAXehb"
      }
    },
    {
      "cell_type": "code",
      "source": [
        "from sklearn.metrics import mean_squared_error\n",
        "\n",
        "# Mean Squared Error\n",
        "mse = mean_squared_error(Z, Z1_pred)\n",
        "r2 = r2_score(Z, Z1_pred)\n",
        "\n",
        "print(f\"Mean Squared Error (MSE): {mse:.4f}\")\n",
        "print(f\"R-squared: {r2:.4f}\")"
      ],
      "metadata": {
        "colab": {
          "base_uri": "https://localhost:8080/"
        },
        "id": "O9g_00IZpFgj",
        "outputId": "8117857e-8e8a-4395-8dee-76834c741ab7"
      },
      "execution_count": null,
      "outputs": [
        {
          "output_type": "stream",
          "name": "stdout",
          "text": [
            "Mean Squared Error (MSE): 620875.1800\n",
            "R-squared: 0.0952\n"
          ]
        }
      ]
    },
    {
      "cell_type": "markdown",
      "source": [
        "> Mean Squared Error (MSE) = 620,875.18 menunjukkan bahwa rata-rata kesalahan prediksi cukup besar, sehingga model tidak mampu memperkirakan konsumsi energi dengan baik.\n",
        "\n",
        "> R-squared = 0.0952 → Hanya 9.52% variasi dalam konsumsi energi yang dapat dijelaskan oleh jumlah penghuni.\n",
        "→ Model ini sangat lemah dalam menjelaskan hubungan antara jumlah penghuni dan konsumsi energi."
      ],
      "metadata": {
        "id": "qJt4tEo4ZNvL"
      }
    },
    {
      "cell_type": "markdown",
      "source": [
        "# **KESIMPULAN**\n",
        "\n",
        "## **Hasil Model (1)**\n",
        "> Model (Regresi Berganda): Y = β0 + β1X1 + β2X2 + β3X3 + β4X4 + β5X5 + ε\n",
        "\n",
        "> Pengertian:\n",
        "* Variabel Target (Y): \"Square Footage\"\n",
        "* Variabel Independen (X): X1 = \"Number of Occupants\" -> X2 = \"Average Temperature\" -> X3 = \"Day of Week\" -> X4 = \"Energy Consumption -> X5 = \"Building Type\"\n",
        "* β0 = Intercept (nilai Y saat semua X = 0)\n",
        "* β1 = Koefisien untuk variabel independen pertama X1 -> β2 = Koefisien untuk variabel independen pertama X2 -> β3 = Koefisien untuk variabel independen pertama X3 -> β4 = Koefisien untuk variabel independen pertama X4 -> β5 = Koefisien untuk variabel independen pertama X5\n",
        "* ε = Galat/Error (Y Diketahui - Y Diprediksi)\n",
        "\n",
        "> Menghasilkan RMSE dan RSquare:\n",
        "* MSE: 28,940,863.18 → Kesalahan prediksi jauh lebih kecil, menunjukkan model lebih akurat.\n",
        "* R-squared: 0.844 → Model menjelaskan 84.45% variasi Square Footage.\n",
        "\n",
        "### **Hasil Model (1) dengan Variabel Khusus [Energy Consumption]**\n",
        "> Model (Regresi): Y = β0 + β1X + ε\n",
        "\n",
        "> Pengertian:\n",
        "* Variabel Target (Y): \"Square Footage\"\n",
        "* Variabel Independen (X): \"Energy Consumption\"\n",
        "* β0 = Intercept (nilai Y saat semua X = 0)\n",
        "* β1 = Koefisien untuk variabel independen pertama X\n",
        "* ε = Galat/Error (Y Diketahui - Y Diprediksi)\n",
        "\n",
        "> Menghasilkan RMSE dan RSquare:\n",
        "* MSE: 88,546,782.75 -> Cukup besar, menunjukkan bahwa prediksi model masih memiliki kesalahan yang signifikan.\n",
        "* R-squared: 0.524 -> menunjukkan bahwa model hanya menjelaskan 52.42% variabilitas dalam Square Footage, sisanya dipengaruhi oleh faktor lain yang belum dimasukkan ke dalam model.\n",
        "* Perlu penambahan variabel lain atau metode yang lebih kompleks untuk meningkatkan akurasi model.\n",
        "\n",
        "## **Hasil Model (2)**\n",
        "> Model (Regresi Berganda): Z = β0 + β1A1 + β2A2 + β3A3 + β4A4 + β5A5 + ε\n",
        "\n",
        "> Pengertian:\n",
        "* Variabel Target (Z): \"Energy Consumption\"\n",
        "* Variabel Independen (A): A1 = \"Number of Occupants\" -> A2 = \"Average Temperature\" -> A3 = \"Square Footage\" -> A4 = \"Building Type\" -> A5 = \"Appliances Used\"\n",
        "* β0 = Intercept (nilai Z saat semua A = 0)\n",
        "* β1 = Koefisien untuk variabel independen pertama A1 -> β2 = Koefisien untuk variabel independen pertama A2 -> β3 = Koefisien untuk variabel independen pertama A3 -> β4 = Koefisien untuk variabel independen pertama A4 -> β5 = Koefisien untuk variabel independen pertama A5\n",
        "* ε = Galat/Error (Z Diketahui - Z Diprediksi)\n",
        "\n",
        "> Menghasilkan RMSE dan RSquare:\n",
        "* MSE (568.2094): rata-rata kesalahan prediksi model adalah sekitar 568.2 unit dalam skala kuadrat.\n",
        "* RScore (0.9992): berarti 99.92% dari variasi konsumsi energi dapat dijelaskan oleh model regresi. Hanya sekitar 0.08% variasi yang tidak dapat dijelaskan oleh model.\n",
        "\n",
        "### **Hasil Model (2) dengan Variabel Khusus [Number of Occupants]**\n",
        "> Model (Regresi): Z1 = β0 + β1A1 + ε\n",
        "\n",
        "> Pengertian:\n",
        "* Variabel Target (Z1): \"Energy Consumption\"\n",
        "* Variabel Independen (A1): \"Number of Occupants\"\n",
        "* β0 = Intercept (nilai Z1 saat semua A1 = 0)\n",
        "* β1 = Koefisien untuk variabel independen pertama A1\n",
        "* ε = Galat/Error (Z1 Diketahui - Z1 Diprediksi)\n",
        "\n",
        "> Menghasilkan RMSE dan RSquare:\n",
        "* MSE (620,875.18): menunjukkan bahwa rata-rata kesalahan prediksi cukup besar, sehingga model tidak mampu memperkirakan konsumsi energi dengan baik.\n",
        "* R-squared (0.0952): Hanya 9.52% variasi dalam konsumsi energi yang dapat dijelaskan oleh jumlah penghuni. Model ini juga sangat lemah dalam menjelaskan hubungan antara jumlah penghuni dan konsumsi energi.\n"
      ],
      "metadata": {
        "id": "KnzydyfyZWQ5"
      }
    },
    {
      "cell_type": "markdown",
      "source": [
        "# **Interpretasi Akhir**\n",
        "\n",
        "> Model (1) kurang akurat dibanding Model (2) dalam memprediksi variabel targetnya. Hal ini terlihat dari nilai R-squared yang lebih kecil. Untuk meningkatkan akurasi Model (1), perlu ditambahkan variabel lain atau teknik pemodelan lebih kompleks.\n",
        "\n",
        "> Model (2) sangat akurat (R-squared = 0.9992)\n",
        "\n",
        "> Penggunaan satu variabel saja kurang efektif dalam prediksi. Model dengan satu variabel (Energy Consumption untuk Square Footage & Number of Occupants untuk Energy Consumption) memiliki R-squared yang rendah, menandakan bahwa banyak faktor lain yang berpengaruh."
      ],
      "metadata": {
        "id": "0qRLMBBsl609"
      }
    }
  ]
}